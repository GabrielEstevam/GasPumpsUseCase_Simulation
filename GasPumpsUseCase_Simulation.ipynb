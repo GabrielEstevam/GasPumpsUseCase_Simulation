{
  "cells": [
    {
      "cell_type": "markdown",
      "metadata": {
        "id": "pzDKHJ6dYmYa"
      },
      "source": [
        "### Gas Pumps Use Case Simulation\n",
        "\n",
        "#### This simulation reproduces the fuel sales scenario for 2022 in Brazil. In the scenario, the gas pumps and the fleet of vehicles in circulation are replicated, and the refueling is recreated, totaling the volume of fuel sold in that year. A deficit factor (poisson) is also inserted in the gas pumps that represent volumetric fraud. The objective of this is to evaluate and validate the fraud detection model proposed in the article."
      ]
    },
    {
      "cell_type": "markdown",
      "metadata": {
        "id": "YoSzBbKkgip2"
      },
      "source": [
        "# Library Imports"
      ]
    },
    {
      "cell_type": "code",
      "execution_count": 159,
      "metadata": {
        "id": "LzbbhhbYtX4g"
      },
      "outputs": [],
      "source": [
        "from scipy.stats import skewnorm, norm\n",
        "from random import random, randint\n",
        "import matplotlib.pyplot as plt\n",
        "import numpy\n",
        "import csv\n",
        "import pandas as pd\n",
        "import json\n",
        "import time\n",
        "import math\n",
        "import tracemalloc"
      ]
    },
    {
      "cell_type": "markdown",
      "metadata": {
        "id": "qEw0NM-Q8LDB"
      },
      "source": [
        "# Scenario parameters definition"
      ]
    },
    {
      "cell_type": "code",
      "execution_count": 197,
      "metadata": {
        "id": "1SeQJknH8emB"
      },
      "outputs": [],
      "source": [
        "scenario_fragment = 1 # percentage of the scenario used in the simulation, 1 represents the total scenario\n",
        "time_fragment = 1 # fraction of time used in the simulation, 1 represents one year\n",
        "adoption = 0.01 # fraction of adoption, 1 means that all users submitted data\n",
        "\n",
        "meanDeficit = 3 # percentage value of deficit from the average volume of gas pumps (Volumetric duel deficit)\n",
        "peakShortfall = 10 # percentage value of deficit from the average volume of fraudulent gas pumps (Fraudulent gas pump shortfall)\n",
        "tolerance = 0.5 # percentage value of tolerance, used as maximum negative deficit\n",
        "peakShortfallVariation = 2 # percentage value of variation from the peak\n",
        "efficiencyRange = 20 # percentage value of variation in vehicle efficiency\n",
        "\n",
        "biasedVehiclesFault = 10 # percentage value of users who forget to submit data\n",
        "biasedFault = 10 # percentage of times that forgetful users forget to submit data\n",
        "biasedVehiclesManipulation = 5 # percentage value of users who manipulate the data\n",
        "efficiencyBias = 20 # percentage value of data manipulation by users who manipulate the data\n",
        "\n",
        "# when changing this parameter you do not need to run everything again, just the evaluation\n",
        "positivity = 100 # percentage of positivity in relation to the estimate of fraudulent gas pumps"
      ]
    },
    {
      "cell_type": "markdown",
      "metadata": {
        "id": "yZvX6oUTswyu"
      },
      "source": [
        "# Constants definition\n"
      ]
    },
    {
      "cell_type": "code",
      "execution_count": 198,
      "metadata": {
        "id": "nIM1CNG6gmBe"
      },
      "outputs": [],
      "source": [
        "# Simulation parameters, data for the year 2022\n",
        "\n",
        "totalNumberOfGasPumpsByFuel = {\n",
        "    'gasoline': 187299,\n",
        "    'ethanol': 65155,\n",
        "    'diesel': 266737\n",
        "}\n",
        "\n",
        "numbersByProfile = {\n",
        "    'automobilesWithGasoline': {\n",
        "        'vehicles': 46587851,\n",
        "        'efficiency': 14.1,\n",
        "        'tank': 50,\n",
        "        'fuel': 33912375910 * (1 + meanDeficit/100), # fraud correction\n",
        "        'refuelings': 1397189887 # with fraud correction\n",
        "    },\n",
        "    'automobilesWithEthanol': {\n",
        "        'vehicles': 14615548,\n",
        "        'efficiency': 10.3,\n",
        "        'tank': 50,\n",
        "        'fuel': 14564063109 * (1 + meanDeficit / 100),  # fraud correction\n",
        "        'refuelings': 582562524  # with fraud correction\n",
        "    },\n",
        "    'automobilesWithDiesel': {\n",
        "        'vehicles': 1896942,\n",
        "        'efficiency': 12.3,\n",
        "        'tank': 55,\n",
        "        'fuel': 3177622640 * (1 + meanDeficit / 100),  # fraud correction\n",
        "        'refuelings': 119016411\n",
        "    },\n",
        "    'lightCommercialGasoline': {\n",
        "        'vehicles': 4002530,\n",
        "        'efficiency': 13.2,\n",
        "        'tank': 55,\n",
        "        'fuel': 3112183992 * (1 + meanDeficit / 100),  # fraud correction\n",
        "        'refuelings': 116565436  # with fraud correction\n",
        "    },\n",
        "    'lightCommercialEthanol': {\n",
        "        'vehicles': 1302644,\n",
        "        'efficiency': 9.4,\n",
        "        'tank': 55,\n",
        "        'fuel': 1422336890 * (1 + meanDeficit / 100),  # fraud correction\n",
        "        'refuelings': 51721341  # with fraud correction\n",
        "    },\n",
        "    'lightCommercialDiesel': {\n",
        "        'vehicles': 439711,\n",
        "        'efficiency': 12.1,\n",
        "        'tank': 55,\n",
        "        'fuel': 8411424655 * (1 + meanDeficit / 100),  # fraud correction\n",
        "        'refuelings': 315046087  # with fraud correction\n",
        "    },\n",
        "    'truckWithDiesel': {\n",
        "        'vehicles': 3732698,\n",
        "        'efficiency': 1.56,\n",
        "        'tank': 495,\n",
        "        'fuel': 49300539870 * (1 + meanDeficit / 100),  # fraud correction\n",
        "        'refuelings': 205169923  # with fraud correction\n",
        "    },\n",
        "    'busWithDiesel': {\n",
        "        'vehicles': 729830,\n",
        "        'efficiency': 3.3,\n",
        "        'tank': 300,\n",
        "        'fuel': 4556812833 * (1 + meanDeficit / 100),  # fraud correction\n",
        "        'refuelings': 31290114  # with fraud correction\n",
        "    },\n",
        "    'motorcycleWithGasoline': {\n",
        "        'vehicles': 30455479,\n",
        "        'efficiency': 35,\n",
        "        'tank': 16.1,\n",
        "        'fuel': 8931040097 * (1 + meanDeficit / 100),  # fraud correction\n",
        "        'refuelings': 1142729354  # with fraud correction\n",
        "    }\n",
        "}"
      ]
    },
    {
      "cell_type": "code",
      "execution_count": 199,
      "metadata": {
        "id": "flifp2j3VVmf"
      },
      "outputs": [],
      "source": [
        "# Expected cross-parameters\n",
        "numbersExpectByProfile = {\n",
        "    'automobilesWithGasoline': {\n",
        "        'mileage': 478164500336, # based on original fuel, without fraud correction\n",
        "        'mileageByVehicle': 10263.72, # based on original fuel, without fraud correction\n",
        "        'refuelings': 1397189887, # with fraud correction\n",
        "        'refuelingsByVehicle': 29.99, # with fraud correction\n",
        "        'refueledVolume': 34929747187, # with fraud correction\n",
        "        'refueledVolumeByVehicle': 34929747187 / 46587851, # with fraud correction\n",
        "        'volumeByRefueling': 25 # without fraud correction\n",
        "    },\n",
        "    'automobilesWithEthanol': {\n",
        "        'mileage': 150009850029,\n",
        "        'mileageByVehicle': 10263.72,\n",
        "        'refuelings': 582562524,\n",
        "        'refuelingsByVehicle': 39.86,\n",
        "        'refueledVolume': 14564063109,\n",
        "        'refueledVolumeByVehicle': 14564063109 / 14615548,\n",
        "        'volumeByRefueling': 25\n",
        "    },\n",
        "    'automobilesWithDiesel': {\n",
        "        'mileage': 39084758478,\n",
        "        'mileageByVehicle': 20604.09,\n",
        "        'refuelings': 119016411,\n",
        "        'refuelingsByVehicle': 62.74,\n",
        "        'refueledVolume': 3272951319,\n",
        "        'refueledVolumeByVehicle': 3272951319 / 1896942,\n",
        "        'volumeByRefueling': 27.50\n",
        "    },\n",
        "    'lightCommercialGasoline': {\n",
        "        'mileage': 41080828696,\n",
        "        'mileageByVehicle': 10263.72,\n",
        "        'refuelings': 116565436,\n",
        "        'refuelingsByVehicle': 29.12,\n",
        "        'refueledVolume': 3205549511,\n",
        "        'refueledVolumeByVehicle': 3205549511 / 4002530,\n",
        "        'volumeByRefueling': 27.50\n",
        "    },\n",
        "    'lightCommercialEthanol': {\n",
        "        'mileage': 13369966769,\n",
        "        'mileageByVehicle': 10263.72,\n",
        "        'refuelings': 51721341,\n",
        "        'refuelingsByVehicle': 39.70,\n",
        "        'refueledVolume': 1422336890,\n",
        "        'refueledVolumeByVehicle':1422336890 / 1302644,\n",
        "        'volumeByRefueling': 27.50\n",
        "    },\n",
        "    'lightCommercialDiesel': {\n",
        "        'mileage': 101778238330,\n",
        "        'mileageByVehicle': 20604.09,\n",
        "        'refuelings': 315046087,\n",
        "        'refuelingsByVehicle': 63.78,\n",
        "        'refueledVolume': 8663767395,\n",
        "        'refueledVolumeByVehicle': 8663767395 / 4939711,\n",
        "        'volumeByRefueling': 27.50\n",
        "    },\n",
        "    'truckWithDiesel': {\n",
        "        'mileage': 76908842197,\n",
        "        'mileageByVehicle': 20604.09,\n",
        "        'refuelings': 205169923,\n",
        "        'refuelingsByVehicle': 54.97,\n",
        "        'refueledVolume': 50779556066,\n",
        "        'refueledVolumeByVehicle': 50779556066 / 3732698,\n",
        "        'volumeByRefueling': 247.50\n",
        "    },\n",
        "    'busWithDiesel': {\n",
        "        'mileage': 15037482352,\n",
        "        'mileageByVehicle': 20604.09,\n",
        "        'refuelings': 31290114,\n",
        "        'refuelingsByVehicle': 42.87,\n",
        "        'refueledVolume': 4693517219,\n",
        "        'refueledVolumeByVehicle': 4693517219 / 729830,\n",
        "        'volumeByRefueling': 150\n",
        "    },\n",
        "    'motorcycleWithGasoline': {\n",
        "        'mileage': 312586403411,\n",
        "        'mileageByVehicle': 10263.72,\n",
        "        'refuelings': 1142729354,\n",
        "        'refuelingsByVehicle': 37.52,\n",
        "        'refueledVolume': 9198971300,\n",
        "        'refueledVolumeByVehicle': 9198971300 / 30455479,\n",
        "        'volumeByRefueling': 8.05\n",
        "    }\n",
        "}"
      ]
    },
    {
      "cell_type": "code",
      "execution_count": 200,
      "metadata": {
        "id": "m7hZ5fZH9oXR"
      },
      "outputs": [],
      "source": [
        "# Mapping profiles to fuel type\n",
        "fuel_type_by_profile = {\n",
        "    'automobilesWithGasoline': 'gasoline',\n",
        "    'automobilesWithEthanol': 'ethanol',\n",
        "    'automobilesWithDiesel': 'diesel',\n",
        "    'lightCommercialGasoline': 'gasoline',\n",
        "    'lightCommercialEthanol': 'ethanol',\n",
        "    'lightCommercialDiesel': 'diesel',\n",
        "    'truckWithDiesel': 'diesel',\n",
        "    'busWithDiesel': 'diesel',\n",
        "    'motorcycleWithGasoline': 'gasoline'\n",
        "}\n",
        "\n",
        "profile_names = [\n",
        "    'automobilesWithGasoline'\n",
        "    , 'automobilesWithEthanol', 'automobilesWithDiesel', 'lightCommercialGasoline', 'lightCommercialEthanol', 'lightCommercialDiesel', 'truckWithDiesel','busWithDiesel', 'motorcycleWithGasoline'\n",
        "]"
      ]
    },
    {
      "cell_type": "code",
      "execution_count": 201,
      "metadata": {
        "id": "_63At6qUg6ie"
      },
      "outputs": [],
      "source": [
        "# Relative parameters, proportion (percentage) relative to the total data\n",
        "\n",
        "gasPumpsByFuel = totalNumberOfGasPumpsByFuel.copy()\n",
        "for fuel_type in ['gasoline', 'ethanol', 'diesel']:\n",
        "    gasPumpsByFuel[fuel_type] = int(round(gasPumpsByFuel[fuel_type] * scenario_fragment, 0))\n",
        "\n",
        "profiles = {}\n",
        "for profile_name in profile_names:\n",
        "    profiles[profile_name] = numbersByProfile[profile_name].copy()\n",
        "    profiles[profile_name]['vehicles'] = int(round(profiles[profile_name]['vehicles'] * scenario_fragment * adoption, 0))\n",
        "    profiles[profile_name]['fuel'] = profiles[profile_name]['fuel'] * scenario_fragment * time_fragment * adoption\n",
        "    profiles[profile_name]['refuelings'] = profiles[profile_name]['refuelings'] * scenario_fragment * time_fragment * adoption\n",
        "\n",
        "expectByProfile = {}\n",
        "for profile_name in profile_names:\n",
        "    expectByProfile[profile_name] = numbersExpectByProfile[profile_name].copy()\n",
        "    expectByProfile[profile_name]['mileage'] = expectByProfile[profile_name]['mileage'] * scenario_fragment * time_fragment * adoption\n",
        "    expectByProfile[profile_name]['mileageByVehicle'] = expectByProfile[profile_name]['mileage'] / profiles[profile_name]['vehicles']\n",
        "    expectByProfile[profile_name]['refuelings'] = expectByProfile[profile_name]['refuelings'] * scenario_fragment * time_fragment * adoption\n",
        "    expectByProfile[profile_name]['refuelingsByVehicle'] = expectByProfile[profile_name]['refuelings'] / profiles[profile_name]['vehicles']\n",
        "    expectByProfile[profile_name]['refueledVolume'] = profiles[profile_name]['fuel']\n",
        "    expectByProfile[profile_name]['refueledVolumeByVehicle'] = profiles[profile_name]['fuel'] / profiles[profile_name]['vehicles']\n"
      ]
    },
    {
      "cell_type": "code",
      "execution_count": 202,
      "metadata": {
        "colab": {
          "base_uri": "https://localhost:8080/"
        },
        "id": "lMq1VHLw4Q5B",
        "outputId": "e101c44c-932f-4fc7-8d88-083f7395886c"
      },
      "outputs": [
        {
          "output_type": "stream",
          "name": "stdout",
          "text": [
            "Number of gas pumps: {\n",
            "    \"diesel\": 266737,\n",
            "    \"ethanol\": 65155,\n",
            "    \"gasoline\": 187299\n",
            "}\n",
            "----------\n",
            "Profiles: {\n",
            "    \"automobilesWithDiesel\": {\n",
            "        \"efficiency\": 12.3,\n",
            "        \"fuel\": 32729513.192000005,\n",
            "        \"refuelings\": 1190164.11,\n",
            "        \"tank\": 55,\n",
            "        \"vehicles\": 18969\n",
            "    },\n",
            "    \"automobilesWithEthanol\": {\n",
            "        \"efficiency\": 10.3,\n",
            "        \"fuel\": 150009850.0227,\n",
            "        \"refuelings\": 5825625.24,\n",
            "        \"tank\": 50,\n",
            "        \"vehicles\": 146155\n",
            "    },\n",
            "    \"automobilesWithGasoline\": {\n",
            "        \"efficiency\": 14.1,\n",
            "        \"fuel\": 349297471.873,\n",
            "        \"refuelings\": 13971898.870000001,\n",
            "        \"tank\": 50,\n",
            "        \"vehicles\": 465879\n",
            "    },\n",
            "    \"busWithDiesel\": {\n",
            "        \"efficiency\": 3.3,\n",
            "        \"fuel\": 46935172.1799,\n",
            "        \"refuelings\": 312901.14,\n",
            "        \"tank\": 300,\n",
            "        \"vehicles\": 7298\n",
            "    },\n",
            "    \"lightCommercialDiesel\": {\n",
            "        \"efficiency\": 12.1,\n",
            "        \"fuel\": 86637673.9465,\n",
            "        \"refuelings\": 3150460.87,\n",
            "        \"tank\": 55,\n",
            "        \"vehicles\": 4397\n",
            "    },\n",
            "    \"lightCommercialEthanol\": {\n",
            "        \"efficiency\": 9.4,\n",
            "        \"fuel\": 14650069.967,\n",
            "        \"refuelings\": 517213.41000000003,\n",
            "        \"tank\": 55,\n",
            "        \"vehicles\": 13026\n",
            "    },\n",
            "    \"lightCommercialGasoline\": {\n",
            "        \"efficiency\": 13.2,\n",
            "        \"fuel\": 32055495.1176,\n",
            "        \"refuelings\": 1165654.36,\n",
            "        \"tank\": 55,\n",
            "        \"vehicles\": 40025\n",
            "    },\n",
            "    \"motorcycleWithGasoline\": {\n",
            "        \"efficiency\": 35,\n",
            "        \"fuel\": 91989712.9991,\n",
            "        \"refuelings\": 11427293.540000001,\n",
            "        \"tank\": 16.1,\n",
            "        \"vehicles\": 304555\n",
            "    },\n",
            "    \"truckWithDiesel\": {\n",
            "        \"efficiency\": 1.56,\n",
            "        \"fuel\": 507795560.661,\n",
            "        \"refuelings\": 2051699.23,\n",
            "        \"tank\": 495,\n",
            "        \"vehicles\": 37327\n",
            "    }\n",
            "}\n",
            "----------\n",
            "Expected numbers: {\n",
            "    \"automobilesWithDiesel\": {\n",
            "        \"mileage\": 390847584.78000003,\n",
            "        \"mileageByVehicle\": 20604.54345405662,\n",
            "        \"refueledVolume\": 32729513.192000005,\n",
            "        \"refueledVolumeByVehicle\": 1725.4211182455588,\n",
            "        \"refuelings\": 1190164.11,\n",
            "        \"refuelingsByVehicle\": 62.74258579788076,\n",
            "        \"volumeByRefueling\": 27.5\n",
            "    },\n",
            "    \"automobilesWithEthanol\": {\n",
            "        \"mileage\": 1500098500.29,\n",
            "        \"mileageByVehicle\": 10263.75081447778,\n",
            "        \"refueledVolume\": 150009850.0227,\n",
            "        \"refueledVolumeByVehicle\": 1026.3750814046732,\n",
            "        \"refuelings\": 5825625.24,\n",
            "        \"refuelingsByVehicle\": 39.85922643768602,\n",
            "        \"volumeByRefueling\": 25\n",
            "    },\n",
            "    \"automobilesWithGasoline\": {\n",
            "        \"mileage\": 4781645003.36,\n",
            "        \"mileageByVehicle\": 10263.705819236324,\n",
            "        \"refueledVolume\": 349297471.873,\n",
            "        \"refueledVolumeByVehicle\": 749.760070475381,\n",
            "        \"refuelings\": 13971898.870000001,\n",
            "        \"refuelingsByVehicle\": 29.990402808454558,\n",
            "        \"volumeByRefueling\": 25\n",
            "    },\n",
            "    \"busWithDiesel\": {\n",
            "        \"mileage\": 150374823.52,\n",
            "        \"mileageByVehicle\": 20604.936081118118,\n",
            "        \"refueledVolume\": 46935172.1799,\n",
            "        \"refueledVolumeByVehicle\": 6431.237623992874,\n",
            "        \"refuelings\": 312901.14,\n",
            "        \"refuelingsByVehicle\": 42.87491641545629,\n",
            "        \"volumeByRefueling\": 150\n",
            "    },\n",
            "    \"lightCommercialDiesel\": {\n",
            "        \"mileage\": 1017782383.3000001,\n",
            "        \"mileageByVehicle\": 231471.99984080056,\n",
            "        \"refueledVolume\": 86637673.9465,\n",
            "        \"refueledVolumeByVehicle\": 19703.81486161019,\n",
            "        \"refuelings\": 3150460.87,\n",
            "        \"refuelingsByVehicle\": 716.5023584261997,\n",
            "        \"volumeByRefueling\": 27.5\n",
            "    },\n",
            "    \"lightCommercialEthanol\": {\n",
            "        \"mileage\": 133699667.69,\n",
            "        \"mileageByVehicle\": 10264.061698909873,\n",
            "        \"refueledVolume\": 14650069.967,\n",
            "        \"refueledVolumeByVehicle\": 1124.6791007984032,\n",
            "        \"refuelings\": 517213.41000000003,\n",
            "        \"refuelingsByVehicle\": 39.70623445416859,\n",
            "        \"volumeByRefueling\": 27.5\n",
            "    },\n",
            "    \"lightCommercialGasoline\": {\n",
            "        \"mileage\": 410808286.96000004,\n",
            "        \"mileageByVehicle\": 10263.79230381012,\n",
            "        \"refueledVolume\": 32055495.1176,\n",
            "        \"refueledVolumeByVehicle\": 800.886823675203,\n",
            "        \"refuelings\": 1165654.36,\n",
            "        \"refuelingsByVehicle\": 29.123157026858216,\n",
            "        \"volumeByRefueling\": 27.5\n",
            "    },\n",
            "    \"motorcycleWithGasoline\": {\n",
            "        \"mileage\": 3125864034.11,\n",
            "        \"mileageByVehicle\": 10263.709458422945,\n",
            "        \"refueledVolume\": 91989712.9991,\n",
            "        \"refueledVolumeByVehicle\": 302.0463069038433,\n",
            "        \"refuelings\": 11427293.540000001,\n",
            "        \"refuelingsByVehicle\": 37.52128035986932,\n",
            "        \"volumeByRefueling\": 8.05\n",
            "    },\n",
            "    \"truckWithDiesel\": {\n",
            "        \"mileage\": 769088421.97,\n",
            "        \"mileageByVehicle\": 20604.0780660112,\n",
            "        \"refueledVolume\": 507795560.661,\n",
            "        \"refueledVolumeByVehicle\": 13603.974620542771,\n",
            "        \"refuelings\": 2051699.23,\n",
            "        \"refuelingsByVehicle\": 54.9655538886061,\n",
            "        \"volumeByRefueling\": 247.5\n",
            "    }\n",
            "}\n"
          ]
        }
      ],
      "source": [
        "# Obs.: Due to rounding at gas pumps and vehicles, the numbers may differ slightly from the reference table.\n",
        "print('Number of gas pumps:', json.dumps(gasPumpsByFuel, sort_keys=True, indent=4))\n",
        "print(\"----------\")\n",
        "print('Profiles:', json.dumps(profiles, sort_keys=True, indent=4))\n",
        "print(\"----------\")\n",
        "print('Expected numbers:', json.dumps(expectByProfile, sort_keys=True, indent=4))"
      ]
    },
    {
      "cell_type": "markdown",
      "metadata": {
        "id": "BQ-uMczOs0rv"
      },
      "source": [
        "# Auxiliary Functions"
      ]
    },
    {
      "cell_type": "code",
      "execution_count": 166,
      "metadata": {
        "id": "m6vRPmmNsoyP"
      },
      "outputs": [],
      "source": [
        "# Function to generate displaced normal curve\n",
        "\n",
        "def skewedDistribution(a, mean, size, min_value=None, max_value=None):\n",
        "\n",
        "  # a: Curve shift parameter (positive shifts the peak to the left, negative shifts the peak to the right).\n",
        "  # The a is used to achieve the desired mean.\n",
        "  # minValue: Minimum desired value\n",
        "  # maxValue: Maximum desired value\n",
        "  # n: Number of desired samples\n",
        "  # Returns a list with the distribution\n",
        "\n",
        "  if min_value is not None and max_value is not None:\n",
        "    scale = ((max_value-min_value) / 5) # empirical number to fit the scale\n",
        "    data = skewnorm.rvs(a, loc=1, scale=scale, size=size)\n",
        "    data[(data < min_value) | (data > max_value)] = mean\n",
        "  else:\n",
        "    data = skewnorm.rvs(a, loc=1, scale=a, size=size)\n",
        "\n",
        "  return data"
      ]
    },
    {
      "cell_type": "code",
      "execution_count": 167,
      "metadata": {
        "id": "ZjU7W4r1gm5F"
      },
      "outputs": [],
      "source": [
        "# Function to generate normal distribution\n",
        "\n",
        "def normalDistribution(mean, size, min_value=None, max_value=None, std=1, defaultValue=None):\n",
        "\n",
        "  # mean: Mean of the normal curve\n",
        "  # minValue: Minimum desired value\n",
        "  # maxValue: Maximum desired value\n",
        "  # size: Number of desired samples\n",
        "  # Returns a list with the distribution\n",
        "\n",
        "  if min_value is not None and max_value is not None:\n",
        "    #scale = ((max_value-min_value) / 8) # empirical number to fit the scale\n",
        "    data = norm.rvs(mean, size=size, scale=std)\n",
        "    data[(data < min_value) | (data > max_value)] = defaultValue or mean\n",
        "  else:\n",
        "    data = norm.rvs(mean, size=size, scale=std)\n",
        "\n",
        "  return data"
      ]
    },
    {
      "cell_type": "code",
      "execution_count": 168,
      "metadata": {
        "id": "hqsKQ3glygOD"
      },
      "outputs": [],
      "source": [
        "# Function to generate a distribution with two peaks\n",
        "\n",
        "def twoPeaksDistribution(first, second, range1, range2, size, mean, std1=1, std2=1):\n",
        "\n",
        "  # first: Average of the first peak of the curve\n",
        "  # second: Average of the second peak of the curve\n",
        "  # mean: Average of the samples\n",
        "  # n: desired number of samples\n",
        "  # Returns a list with the distribution\n",
        "\n",
        "  # Calculate n of first peak using the formula for weighted average\n",
        "  n1 = ((size * mean) - (second * size)) / (first - second)\n",
        "\n",
        "  # Generate two sets of samples from normal distributions\n",
        "  data1 = normalDistribution(mean=first, min_value=first-range1, max_value=first+range1, size=round(n1), std=std1)\n",
        "  data2 = normalDistribution(mean=second, min_value=second-range2, max_value=second+range2, size=round(size-n1), std=std2)\n",
        "\n",
        "  # Combine the two distributions\n",
        "  data = numpy.concatenate((data1, data2))\n",
        "\n",
        "  return data"
      ]
    },
    {
      "cell_type": "code",
      "execution_count": 169,
      "metadata": {
        "id": "UHGw-Z7mJ0Aj"
      },
      "outputs": [],
      "source": [
        "# Funtion to plot a histogram of a distribution\n",
        "\n",
        "def plotHistDistribution(distribution, label, bins=100):\n",
        "  plt.hist(distribution, bins = bins)\n",
        "  plt.title(label)\n",
        "  plt.show()\n",
        "  print('Mean:', sum(distribution)/len(distribution))\n",
        "  print('Std:', numpy.std(distribution))\n",
        "  print('Min:', min(distribution))\n",
        "  print('Max:', max(distribution))"
      ]
    },
    {
      "cell_type": "code",
      "execution_count": 170,
      "metadata": {
        "id": "2D2HdoGs3jhA"
      },
      "outputs": [],
      "source": [
        "# Function to plot a bar graph of a distribution\n",
        "\n",
        "def plotBarDistribution(x, y, label):\n",
        "  plt.bar(x, y)\n",
        "  plt.title(label)\n",
        "  plt.show()\n",
        "  print('Mean:', sum(y)/len(y))\n",
        "  print('Min:', min(y))\n",
        "  print('Max:', max(y))"
      ]
    },
    {
      "cell_type": "code",
      "execution_count": 171,
      "metadata": {
        "id": "LCsKCaeViDsM"
      },
      "outputs": [],
      "source": [
        "# Remove outliers com o método de Tukey\n",
        "\n",
        "def removeOutliers(df_tuple):\n",
        "\n",
        "  df = pd.DataFrame(df_tuple.values(), columns=['value'])\n",
        "  Q3 = df['value'].quantile(0.75)\n",
        "  Q1 = df['value'].quantile(0.25)\n",
        "\n",
        "  IQR = Q3 - Q1\n",
        "\n",
        "  min_value = Q1 - (IQR * 1.5)\n",
        "  max_value = Q3 + (IQR * 1.5)\n",
        "\n",
        "  outliers = {}\n",
        "  new_df = {}\n",
        "  for row in df_tuple:\n",
        "    if df_tuple[row] < min_value or df_tuple[row] > max_value:\n",
        "      outliers[row] = df_tuple[row]\n",
        "    else:\n",
        "      new_df[row] = df_tuple[row]\n",
        "  return outliers, new_df\n"
      ]
    },
    {
      "cell_type": "markdown",
      "metadata": {
        "id": "sve0Q0eQs7c-"
      },
      "source": [
        "# Creating Tables Functions"
      ]
    },
    {
      "cell_type": "code",
      "execution_count": 172,
      "metadata": {
        "id": "TQCIuepn3Dvk"
      },
      "outputs": [],
      "source": [
        "# Gas pumps table\n",
        "#\n",
        "# Attributes: list with deficits indexed by gas pump id\n",
        "#\n",
        "\n",
        "def generateGasPumps(nGasPumps, deficit, mean):\n",
        "\n",
        "  deficit = twoPeaksDistribution(first=1, second=deficit, range1=tolerance/100, range2=peakShortfallVariation/100, size=nGasPumps, mean=mean, std1=0.002, std2=0.01)\n",
        "\n",
        "  return deficit\n"
      ]
    },
    {
      "cell_type": "code",
      "execution_count": 173,
      "metadata": {
        "id": "u2uNgCS-8_i_"
      },
      "outputs": [],
      "source": [
        "# Vehicles table\n",
        "#\n",
        "# Attributes: matrix with odometer indexed by vehicle id\n",
        "#\n",
        "\n",
        "def generateVehiclesList(profile):\n",
        "  vehiclesOdometerList = []\n",
        "  for i in range(profile['vehicles']):\n",
        "      vehiclesOdometerList.append(0)\n",
        "\n",
        "  return vehiclesOdometerList\n"
      ]
    },
    {
      "cell_type": "code",
      "execution_count": 174,
      "metadata": {
        "id": "q85vhuzzvAJb"
      },
      "outputs": [],
      "source": [
        "# Refuelings Table\n",
        "#\n",
        "# Attributes: list of refuelings per vehicle with volume and fk_gas_pump\n",
        "#\n",
        "\n",
        "def generateRefuelingTable(profile, fuelType, gasPumpsDeficitList, vehiclesOdometerList, biasedVehiclesFault=0, biasedVehiclesManipulation=0, biasedFault=0, efficiencyBias=0):\n",
        "    refuelingCount = 0\n",
        "    refuelingsGasPumpList = []\n",
        "    refuelingsVolumeList = []\n",
        "\n",
        "    estimatedRefuelingCount = round(profile['refuelings'])\n",
        "    vehiclesCount = profile['vehicles']\n",
        "    refuelingsVehicles = (estimatedRefuelingCount / vehiclesCount)\n",
        "    tank = profile['tank']\n",
        "    efficiency = profile['efficiency']\n",
        "    efficiencyRangeAdjusted = efficiency * (efficiencyRange / 100)\n",
        "    refuelingCountBiasedFault = math.ceil(estimatedRefuelingCount * (biasedVehiclesFault/100))\n",
        "    refuelingCountBiasedDeficit = math.ceil(estimatedRefuelingCount * (biasedVehiclesManipulation/100))\n",
        "    vehicleCountBiasedFault = math.floor(vehiclesCount * (biasedVehiclesFault/100))\n",
        "    vehicleCountBiasedDeficit = math.floor(vehiclesCount * (biasedVehiclesManipulation/100)) + vehicleCountBiasedFault\n",
        "\n",
        "    seedsVehicle = normalDistribution(mean=refuelingsVehicles, size=vehiclesCount, min_value=0, max_value=refuelingsVehicles*2, std=12)\n",
        "    seedsGasPump = numpy.random.randint(gasPumpsByFuel[fuelType], size=estimatedRefuelingCount)\n",
        "    seedsRefuelingFuel = normalDistribution(mean=tank/2, size=estimatedRefuelingCount, min_value=0, max_value=tank, std=7)\n",
        "    seedsConsumedFuel = normalDistribution(mean=0.5, size=estimatedRefuelingCount, min_value=0, max_value=1, std=0.15)\n",
        "    seedsRefuelingEfficiency = normalDistribution(mean=efficiency, size=estimatedRefuelingCount, min_value=efficiency-efficiencyRangeAdjusted, max_value=efficiency+efficiencyRangeAdjusted, std=0.85)\n",
        "    seedsRefuelingFault = numpy.random.choice([1, 0], size=math.ceil(refuelingCountBiasedFault*1.3), p=[1-biasedFault/100, biasedFault/100])\n",
        "    seedsRefuelingDeficit = twoPeaksDistribution(mean=1, size=math.ceil(refuelingCountBiasedDeficit*1.3), first=0.8, second=1.2, range1=0.2, range2=0.2)\n",
        "\n",
        "    #plotHistDistribution(seedsConsumedFuel, 'seedsConsumedFuel')\n",
        "\n",
        "    refuelingEfficiencyList = []\n",
        "\n",
        "    for vehicleId, numRefuelings in enumerate(seedsVehicle):\n",
        "\n",
        "      dynamicConsumption = efficiency\n",
        "      fuel = 0\n",
        "      odometer = 0\n",
        "      refuelingsGasPumpList.append([])\n",
        "      refuelingsVolumeList.append([])\n",
        "\n",
        "      # Loop until either all suplies for vehicle or number of refueled exceeds total\n",
        "      for i in range(round(numRefuelings)):\n",
        "\n",
        "          if refuelingCount == estimatedRefuelingCount:\n",
        "            break\n",
        "\n",
        "          gasPumpId = seedsGasPump[refuelingCount]\n",
        "          refuelingFuel = seedsRefuelingFuel[refuelingCount]\n",
        "\n",
        "          minimalConsumption = fuel + refuelingFuel - tank\n",
        "          if minimalConsumption < 0:\n",
        "            minimalConsumption = 0\n",
        "\n",
        "          consumedFuel = seedsConsumedFuel[refuelingCount] * (fuel - minimalConsumption) + minimalConsumption\n",
        "\n",
        "          # Calculate Km driven with the consumed fuel and dynamic Consumption\n",
        "          odometer += (consumedFuel * dynamicConsumption)\n",
        "\n",
        "          # Calculate the refueling fuel amount and the new dynamic consumption for next refueling\n",
        "\n",
        "          refuelingEfficiency = seedsRefuelingEfficiency[refuelingCount] * gasPumpsDeficitList[gasPumpId]\n",
        "\n",
        "          remainingFuel = fuel - consumedFuel\n",
        "\n",
        "          # Calculate new dynamyc consumption\n",
        "          dynamicConsumption = ((dynamicConsumption * remainingFuel) + (refuelingEfficiency * refuelingFuel)) / (remainingFuel + refuelingFuel)\n",
        "\n",
        "          fuel = remainingFuel + refuelingFuel\n",
        "\n",
        "          if vehicleId < vehicleCountBiasedFault: # forgotten users\n",
        "            if seedsRefuelingFault[refuelingCount]:\n",
        "              refuelingsGasPumpList[vehicleId].append(gasPumpId)\n",
        "              refuelingsVolumeList[vehicleId].append(refuelingFuel)\n",
        "              vehiclesOdometerList[vehicleId] = odometer\n",
        "          elif vehicleId < vehicleCountBiasedDeficit: # users who manipulate\n",
        "            refuelingsGasPumpList[vehicleId].append(gasPumpId)\n",
        "            refuelingsVolumeList[vehicleId].append(refuelingFuel)\n",
        "            vehiclesOdometerList[vehicleId] = odometer*seedsRefuelingDeficit[refuelingCount-refuelingCountBiasedFault]\n",
        "          else: # normal users\n",
        "            refuelingsGasPumpList[vehicleId].append(gasPumpId)\n",
        "            refuelingsVolumeList[vehicleId].append(refuelingFuel)\n",
        "            vehiclesOdometerList[vehicleId] = odometer\n",
        "          refuelingCount += 1\n",
        "\n",
        "    return {'refuelingsGasPumpList': refuelingsGasPumpList, 'refuelingsVolumeList': refuelingsVolumeList}\n"
      ]
    },
    {
      "cell_type": "markdown",
      "metadata": {
        "id": "gBDIuhKvCTQi"
      },
      "source": [
        "# Verifications Functions"
      ]
    },
    {
      "cell_type": "markdown",
      "metadata": {
        "id": "VxM9DeRL6JSu"
      },
      "source": [
        "Numbers obtained vs. expected"
      ]
    },
    {
      "cell_type": "code",
      "execution_count": 175,
      "metadata": {
        "id": "riUeaonD6IFK"
      },
      "outputs": [],
      "source": [
        "def crossParametersCheck(fuel_type, vehiclesOdometerList, refuelings):\n",
        "    refuelingsVolumeList = refuelings['refuelingsVolumeList']\n",
        "    refuelingsGasPumpList = refuelings['refuelingsGasPumpList']\n",
        "\n",
        "    print(f'\\n== Verifications for {fuel_type} ==\\n')\n",
        "\n",
        "    totalMileage = sum(vehiclesOdometerList)\n",
        "    totalRefuelings = sum(len(refuelingList) for refuelingList in refuelingsGasPumpList)\n",
        "    totalVolume = sum(sum(volumeList) for volumeList in refuelingsVolumeList)\n",
        "\n",
        "    totalVehicles = len(vehiclesOdometerList)\n",
        "    mileageByVehicle = totalMileage / totalVehicles\n",
        "    refueledVolumeByVehicle = totalVolume / totalVehicles\n",
        "    refuelingsByVehicle = totalrefuelings / totalVehicles\n",
        "    volumeByRefueling = totalVolume / totalrefuelings if totalrefuelings > 0 else 0\n",
        "\n",
        "    expectedMileage = sum(expectByProfile[profile]['mileage'] for profile in expectByProfile if fuel_type_by_profile[profile] == fuel_type)\n",
        "    expectedRefueledVolume = sum(expectByProfile[profile]['refueledVolume'] for profile in expectByProfile if fuel_type_by_profile[profile] == fuel_type)\n",
        "    expectedRefuelings = sum(expectByProfile[profile]['refuelings'] for profile in expectByProfile if fuel_type_by_profile[profile] == fuel_type)\n",
        "\n",
        "    print('Total mileage:', totalMileage)\n",
        "    print('Total mileage expected:', expectedMileage)\n",
        "    print('Total achieved of expected: %.2f%%' % (totalMileage * 100 / expectedMileage))\n",
        "\n",
        "    print('\\nMileage by vehicle:', mileageByVehicle)\n",
        "    print('Mileage expected by vehicle:', expectedMileage / totalVehicles)\n",
        "    print('Total achieved of expected: %.2f%%' % (mileageByVehicle * 100 / (expectedMileage / totalVehicles)))\n",
        "\n",
        "    print('\\nTotal refueled volume:', totalVolume)\n",
        "    print('Total refueled volume expected:', expectedRefueledVolume)\n",
        "    print('Total achieved of expected: %.2f%%' % (totalVolume * 100 / expectedRefueledVolume))\n",
        "\n",
        "    print('\\nRefueled volume by vehicle:', refueledVolumeByVehicle)\n",
        "    print('Refueled volume expected by vehicle:', expectedRefueledVolume / totalVehicles)\n",
        "    print('Total achieved of expected: %.2f%%' % (refueledVolumeByVehicle * 100 / (expectedRefueledVolume / totalVehicles)))\n",
        "\n",
        "    print('\\nTotal refuelings:', totalRefuelings)\n",
        "    print('Total refuelings expected:', expectedRefuelings)\n",
        "    print('Total achieved of expected: %.2f%%' % (totalRefuelings * 100 / expectedRefuelings))\n",
        "\n",
        "    print('\\nRefuelings by vehicle:', refuelingsByVehicle)\n",
        "    print('Refuelings expected by vehicle:', expectedRefuelings / totalVehicles)\n",
        "    print('Total achieved of expected: %.2f%%' % (refuelingsByVehicle * 100 / (expectedRefuelings / totalVehicles)))\n",
        "\n",
        "    print('\\nVolume by refueling:', volumeByRefueling)\n",
        "    print('Volume expected by refueling:', expectedRefueledVolume / expectedRefuelings)\n",
        "    print('Total achieved of expected: %.2f%%' % (volumeByRefueling * 100 / (expectedRefueledVolume / expectedRefuelings)))"
      ]
    },
    {
      "cell_type": "code",
      "execution_count": 176,
      "metadata": {
        "id": "qh4BQMkGO1EU"
      },
      "outputs": [],
      "source": [
        "def crossParametersCheckByProfile(profile_name, vehiclesOdometerList, refuelings):\n",
        "    refuelingsVolumeList = refuelings['refuelingsVolumeList']\n",
        "    refuelingsGasPumpList = refuelings['refuelingsGasPumpList']\n",
        "\n",
        "    print(f'\\n== Verificações para {profile_name} ==\\n')\n",
        "    print('Total mileage:', sum(vehiclesOdometerList))\n",
        "    print('Total mileage expected:', expectByProfile[profile_name]['mileage'])\n",
        "    print('Total achieved of expected: %.2f%%' % (sum(vehiclesOdometerList) * 100 / expectByProfile[profile_name]['mileage']))\n",
        "    print('Obs.: the difference here is because of the fuel remaining in the vehicles tanks at the end.')\n",
        "\n",
        "    print('\\nMileage by vehicle:', sum(vehiclesOdometerList) / profiles[profile_name]['vehicles'])\n",
        "    print('Mileage expected by vehicle:', expectByProfile[profile_name]['mileageByVehicle'])\n",
        "    print('Total achieved of expected: %.2f%%' % (sum(vehiclesOdometerList) / profiles[profile_name]['vehicles'] * 100 / expectByProfile[profile_name]['mileageByVehicle']))\n",
        "\n",
        "    totalVolume = sum(sum(volumeList) for volumeList in refuelingsVolumeList)\n",
        "    print('\\nTotal refueled volume:', totalVolume)\n",
        "    print('Total refueled volume expected:', expectByProfile[profile_name]['refueledVolume'])\n",
        "    print('Total achieved of expected: %.2f%%' % (totalVolume * 100 / expectByProfile[profile_name]['refueledVolume']))\n",
        "\n",
        "    print('\\nRefueled volume by vehicle:', totalVolume / profiles[profile_name]['vehicles'])\n",
        "    print('Refueled volume expected by vehicle:', expectByProfile[profile_name]['refueledVolumeByVehicle'])\n",
        "    print('Total achieved of expected: %.2f%%' % (totalVolume / profiles[profile_name]['vehicles'] * 100 / expectByProfile[profile_name]['refueledVolumeByVehicle']))\n",
        "\n",
        "    totalRefuelings = sum(len(refuelingList) for refuelingList in refuelingsGasPumpList)\n",
        "    print('\\nTotal refuelings:', totalRefuelings)\n",
        "    print('Total refuelings expected:', expectByProfile[profile_name]['refuelings'])\n",
        "    print('Total achieved of expected: %.2f%%' % (totalRefuelings * 100 / expectByProfile[profile_name]['refuelings']))\n",
        "\n",
        "    print('\\nRefuelings by vehicle:', totalRefuelings / profiles[profile_name]['vehicles'])\n",
        "    print('Refuelings expected by vehicle:', expectByProfile[profile_name]['refuelingsByVehicle'])\n",
        "    print('Total achieved of expected: %.2f%%' % (totalRefuelings / profiles[profile_name]['vehicles'] * 100 / expectByProfile[profile_name]['refuelingsByVehicle']))\n",
        "\n",
        "    print('\\nVolume by refueling:', totalVolume / totalRefuelings if totalRefuelings > 0 else 0)\n",
        "    print('Volume expect by refueling:', expectByProfile[profile_name]['volumeByRefueling'])\n",
        "    print('Total achieved of expected: %.2f%%' % (totalVolume / totalRefuelings * 100 / expectByProfile[profile_name]['volumeByRefueling'] if totalRefuelings > 0 else 0))\n"
      ]
    },
    {
      "cell_type": "markdown",
      "metadata": {
        "id": "HGSe_fP-iRfe"
      },
      "source": [
        "Distributions"
      ]
    },
    {
      "cell_type": "code",
      "execution_count": 177,
      "metadata": {
        "id": "_7l7pP6ZiRHn"
      },
      "outputs": [],
      "source": [
        "\n",
        "def plotDistributions(gasPumpsDeficitList, refuelings):\n",
        "  refuelingsVolumeList = refuelings['refuelingsVolumeList']\n",
        "  refuelingsGasPumpList = refuelings['refuelingsGasPumpList']\n",
        "\n",
        "  print('\\n== Distributions ==\\n')\n",
        "\n",
        "  # Frauds\n",
        "  plotHistDistribution(gasPumpsDeficitList, 'Percentage of Deficits from gas pumps', bins=100)\n",
        "\n",
        "  # Refuelings by vehicle\n",
        "  refuelingsVehicle = [len(i) for i in refuelingsGasPumpList]\n",
        "  plotHistDistribution(refuelingsVehicle, 'Frequency of vehicles by quantity of refuelings')\n",
        "\n",
        "  # Refuelings by gas pump\n",
        "  refuelingsGasPump = [0  for i in range(len(gasPumpsDeficitList))]\n",
        "  for i in range(len(refuelingsGasPumpList)):\n",
        "    for j in range(len(refuelingsGasPumpList[i])):\n",
        "      refuelingsGasPump[refuelingsGasPumpList[i][j]] += 1\n",
        "  #plotBarDistribution(df_refuelings.groupby('fk_gas_pump').count().fuel.index, df_refuelings.groupby('fk_gas_pump').count().fuel, 'Refuelings quantity per gas pump')\n",
        "  plotHistDistribution(refuelingsGasPump, 'Frequency of gas pumps by refueling quantity')\n",
        "\n",
        "  # Volume by refueling\n",
        "  refuelingsVolume = []\n",
        "  for i in range(len(refuelingsVolumeList)):\n",
        "    refuelingsVolume += refuelingsVolumeList[i]\n",
        "  plotHistDistribution(refuelingsVolume, 'Frequency of refuelings by volume')"
      ]
    },
    {
      "cell_type": "markdown",
      "metadata": {
        "id": "DsPWfnO3wWJr"
      },
      "source": [
        "# Summary Functions"
      ]
    },
    {
      "cell_type": "markdown",
      "metadata": {
        "id": "Re9szEnKs_sG"
      },
      "source": [
        "Gas pumps summary"
      ]
    },
    {
      "cell_type": "code",
      "execution_count": 178,
      "metadata": {
        "id": "S5dJUsGV-wkA"
      },
      "outputs": [],
      "source": [
        "\n",
        "def resumeGasPumps(gasPumpsByType):\n",
        "  total = 0\n",
        "  deficit = []\n",
        "  print('Gas pumps by fuel type:')\n",
        "  for k in gasPumpsByType:\n",
        "    print(' -', k, ':', len(gasPumpsByType[k]))\n",
        "    print('   - Deficit:')\n",
        "    print('     - average: ', sum(gasPumpsByType[k]) / len(gasPumpsByType[k]))\n",
        "    print('     - max: ', max(gasPumpsByType[k]))\n",
        "    print('     - min: ', min(gasPumpsByType[k]))\n",
        "    total += len(gasPumpsByType[k])\n",
        "    deficit += list(gasPumpsByType[k])\n",
        "  print('Total:', total)\n",
        "  print('\\nTotal deficit:')\n",
        "  print(' - average: ', sum(deficit) / len(deficit))\n",
        "  print(' - max: ', max(deficit))\n",
        "  print(' - min: ', min(deficit))\n",
        "\n",
        "#resumeGasPumps({'gasoline': gasPumpsDeficitList})"
      ]
    },
    {
      "cell_type": "markdown",
      "metadata": {
        "id": "DVRQNXc6CcD5"
      },
      "source": [
        "Vehicles summary"
      ]
    },
    {
      "cell_type": "code",
      "execution_count": 179,
      "metadata": {
        "id": "GITARjv5Ceft"
      },
      "outputs": [],
      "source": [
        "\n",
        "def resumeVehicle(vehiclesByProfile):\n",
        "  total = 0\n",
        "  print('Vehicles by profile:')\n",
        "  for k in vehiclesByProfile:\n",
        "    print(' -', k, ':', len(vehiclesByProfile[k]))\n",
        "    total += len(vehiclesByProfile[k])\n",
        "\n",
        "  print('Total:', total)\n",
        "\n",
        "#resumeVehicle({'automobilesWithGasoline': vehiclesOdometerList})"
      ]
    },
    {
      "cell_type": "markdown",
      "metadata": {
        "id": "dA145DQwCZfh"
      },
      "source": [
        "Refuelings"
      ]
    },
    {
      "cell_type": "code",
      "execution_count": 180,
      "metadata": {
        "id": "MLmrpSJ_totF"
      },
      "outputs": [],
      "source": [
        "def resumeAbastecimentos(refuelingsByProfile):\n",
        "\n",
        "  total = 0\n",
        "  print('Refuelings by profile:')\n",
        "  for k in refuelingsByProfile:\n",
        "    totalProfile = 0\n",
        "    for i in range(len(refuelingsByProfile[k])):\n",
        "      totalProfile += len(refuelingsByProfile[k][i])\n",
        "    print(' -', k, ':', totalProfile)\n",
        "    total += totalProfile\n",
        "\n",
        "  print('Total:', total)\n",
        "\n",
        "  '''print('Total de abastecimentos: ', df_refuelings.shape[0])\n",
        "  print('Volume total dos abastecimentos: ', df_refuelings.fuel.sum())\n",
        "  print('volume total por tipo de combustível: ')\n",
        "  print(pd.merge(df_refuelings, df_gas_pump, left_on='fk_gas_pump', right_on='pk_gas_pump').groupby('tipo_combustivel').sum().fuel)\n",
        "  print('Volume médio por abastecimento: ', df_refuelings.fuel.mean())\n",
        "  print('Menor volume abastecido: ', df_refuelings.fuel.min())\n",
        "  print('Maior volume abastecido: ', df_refuelings.fuel.max())\n",
        "  print('Volume médio por gas pump: ', df_refuelings.fuel.sum()/df_gas_pump.shape[0])\n",
        "  # print(df_refuelings.groupby('fk_gas_pump')['fuel'].agg(['mean', 'min', 'max']))\n",
        "  print('Menor n° abastecimentos: ', df_refuelings.groupby('fk_gas_pump').size().min())\n",
        "  print('Maior n° abastecimentos: ', df_refuelings.groupby('fk_gas_pump').size().max())\n",
        "  print('Média por gas pump: ', df_refuelings.groupby('fk_gas_pump').size().mean())'''\n",
        "\n",
        "\n",
        "#resumeAbastecimentos({'automobilesWithGasoline': refuelingsVolumeList})"
      ]
    },
    {
      "cell_type": "markdown",
      "metadata": {
        "id": "nLRJR_MlprpQ"
      },
      "source": [
        "# Evaluation Functions"
      ]
    },
    {
      "cell_type": "code",
      "execution_count": 181,
      "metadata": {
        "id": "8SYFFn2kVw_r"
      },
      "outputs": [],
      "source": [
        "def vehiclesEvaluation(refuelings, vehiclesOdometerList, profile):\n",
        "    refuelingsVolumeList = refuelings['refuelingsVolumeList']\n",
        "    refuelingsGasPumpList = refuelings['refuelingsGasPumpList']\n",
        "\n",
        "    vehiclesRating = {}\n",
        "    for vehicleId in range(len(refuelingsGasPumpList)):\n",
        "        vehiclesRating[vehicleId] = 1\n",
        "        if len(refuelingsGasPumpList[vehicleId]) > 1:\n",
        "            fuelTotal = sum(refuelingsVolumeList[vehicleId]) - refuelingsVolumeList[vehicleId][len(refuelingsVolumeList[vehicleId])-1]\n",
        "            meanEfficiency = vehiclesOdometerList[vehicleId] / fuelTotal\n",
        "            vehiclesRating[vehicleId] = meanEfficiency / profile['efficiency']\n",
        "\n",
        "    return vehiclesRating\n"
      ]
    },
    {
      "cell_type": "code",
      "execution_count": 182,
      "metadata": {
        "id": "WuKAxZOo1Sv8"
      },
      "outputs": [],
      "source": [
        "def gasPumpsEvaluation(refuelings, gasPumpType, vehiclesRating):\n",
        "\n",
        "    gasPumpsRating = {}\n",
        "    gasPumpsTotalVolume = [0 for i in range(gasPumpsByFuel[gasPumpType])]\n",
        "\n",
        "    for gasPumpId in range(gasPumpsByFuel[gasPumpType]):\n",
        "      gasPumpsRating[gasPumpId] = 0\n",
        "\n",
        "    refuelingsVolumeList = refuelings['refuelingsVolumeList']\n",
        "    refuelingsGasPumpList = refuelings['refuelingsGasPumpList']\n",
        "\n",
        "    for vehicleId in range(len(refuelingsGasPumpList)):\n",
        "      if vehicleId in vehiclesRating:\n",
        "        vehicleRating = vehiclesRating[vehicleId]\n",
        "        for refuelingId in range(len(refuelingsGasPumpList[vehicleId])):\n",
        "          gasPumpsRating[refuelingsGasPumpList[vehicleId][refuelingId]] += (vehicleRating * refuelingsVolumeList[vehicleId][refuelingId])\n",
        "          gasPumpsTotalVolume[refuelingsGasPumpList[vehicleId][refuelingId]] += refuelingsVolumeList[vehicleId][refuelingId]\n",
        "\n",
        "    for gasPumpId in range(gasPumpsByFuel[gasPumpType]):\n",
        "      if gasPumpsTotalVolume[gasPumpId] > 0:\n",
        "        gasPumpsRating[gasPumpId] /= gasPumpsTotalVolume[gasPumpId]\n",
        "\n",
        "    return gasPumpsRating\n"
      ]
    },
    {
      "cell_type": "code",
      "execution_count": 183,
      "metadata": {
        "id": "KvEv3Q_rcP1F"
      },
      "outputs": [],
      "source": [
        "def gasPumpsEvaluationGrouped(refuelings, gasPumpType, vehiclesRating):\n",
        "\n",
        "    gasPumpsRating = {}\n",
        "    gasPumpsTotalVolume = [0 for i in range(gasPumpsByFuel[gasPumpType])]\n",
        "\n",
        "    for gasPumpId in range(gasPumpsByFuel[gasPumpType]):\n",
        "      gasPumpsRating[gasPumpId] = 0\n",
        "\n",
        "    for profile in range(len(refuelings['refuelingsVolumeList'])):\n",
        "\n",
        "      refuelingsVolumeList = refuelings['refuelingsVolumeList'][profile]\n",
        "      refuelingsGasPumpList = refuelings['refuelingsGasPumpList'][profile]\n",
        "\n",
        "      for vehicleId in range(len(refuelingsGasPumpList)):\n",
        "        if vehicleId in vehiclesRating[profile]:\n",
        "          vehicleRating = vehiclesRating[profile][vehicleId]\n",
        "          for refuelingId in range(len(refuelingsGasPumpList[vehicleId])):\n",
        "            gasPumpsRating[refuelingsGasPumpList[vehicleId][refuelingId]] += (vehicleRating * refuelingsVolumeList[vehicleId][refuelingId])\n",
        "            gasPumpsTotalVolume[refuelingsGasPumpList[vehicleId][refuelingId]] += refuelingsVolumeList[vehicleId][refuelingId]\n",
        "\n",
        "    for gasPumpId in range(gasPumpsByFuel[gasPumpType]):\n",
        "      if gasPumpsTotalVolume[gasPumpId] > 0:\n",
        "        gasPumpsRating[gasPumpId] /= gasPumpsTotalVolume[gasPumpId]\n",
        "\n",
        "    return gasPumpsRating\n"
      ]
    },
    {
      "cell_type": "code",
      "execution_count": 184,
      "metadata": {
        "id": "sEeLq15XPU-W"
      },
      "outputs": [],
      "source": [
        "#vehicles_ordered_ranking = sorted(groupedVehiclesByFuel['gasoline'][0].items(), key=lambda item: item[1])\n",
        "#print(vehicles_ordered_ranking)\n",
        "\n",
        "#vehiclesEvaluationPlot = list(list(zip(*vehicles_ordered_ranking))[1])\n",
        "\n",
        "#plt.plot([1 for i in range(len(vehiclesEvaluationPlot))],vehiclesEvaluationPlot, '.')\n",
        "#plt.title('Vehicles evaluation')"
      ]
    },
    {
      "cell_type": "code",
      "execution_count": 185,
      "metadata": {
        "id": "YGbEuT0RUUGG"
      },
      "outputs": [],
      "source": [
        "#gasPumpsEvaluationPlot = list(list(zip(*gasPumps_ordered_ranking))[1])\n",
        "\n",
        "#plt.plot([1 for i in range(len(gasPumpsEvaluationPlot))],gasPumpsEvaluationPlot, '.')\n",
        "#plt.title('gasPumps evaluation')"
      ]
    },
    {
      "cell_type": "markdown",
      "metadata": {
        "id": "hl85wMSKqWRn"
      },
      "source": [
        "# Confusion Matrix Functions"
      ]
    },
    {
      "cell_type": "code",
      "execution_count": 186,
      "metadata": {
        "id": "EabJ47hZnDRM"
      },
      "outputs": [],
      "source": [
        "\n",
        "def generateConfusionMatrixVehiclesAnomaly(estimatedAnomalies, nVehicles, vehiclesOutliers, vehicles, profile_name=None, print_result=False):\n",
        "\n",
        "  # Estimate the number of anomalies\n",
        "  estimatedNumberOfAnomalies = math.floor(nVehicles * (estimatedAnomalies/100))\n",
        "  #print('Number of anomalies:', estimatedNumberOfAnomalies)\n",
        "\n",
        "  # Gets reference values ​​based on deficit values ​​in the gas pumps table\n",
        "  truePositivesReference = set(list(range(estimatedNumberOfAnomalies)))\n",
        "  TPR = len(truePositivesReference)\n",
        "  trueNegativesReference = set(list(range(estimatedNumberOfAnomalies, nVehicles)))\n",
        "  TNR = len(trueNegativesReference)\n",
        "\n",
        "  # Get the positive gas pumps according to the ranking\n",
        "  positives = set(vehiclesOutliers)\n",
        "  negatives = set(vehicles)\n",
        "\n",
        "  # Get the confusion matrix\n",
        "  truePositives = positives.intersection(truePositivesReference)\n",
        "  TP = len(truePositives)\n",
        "  TP_ratio = (TP / TPR * 100) if TPR > 0 else 0\n",
        "\n",
        "  falseNegatives = negatives.intersection(truePositivesReference)\n",
        "  FN = len(falseNegatives)\n",
        "  FN_ratio = (FN / TPR * 100) if TPR > 0 else 0\n",
        "\n",
        "  trueNegatives = negatives.intersection(trueNegativesReference)\n",
        "  TN = len(trueNegatives)\n",
        "  TN_ratio = (TN / TNR * 100) if TNR > 0 else 0\n",
        "\n",
        "  falsePositives = positives.intersection(trueNegativesReference)\n",
        "  FP = len(falsePositives)\n",
        "  FP_ratio = (FP / TNR * 100) if TNR > 0 else 0\n",
        "\n",
        "  accuracy = (TP + TN) / (TP + TN + FP + FN) if (TP + TN + FP + FN) > 0 else 0\n",
        "  precision = TP / (TP + FP) if (TP + FP) > 0 else 0\n",
        "\n",
        "\n",
        "  if print_result:\n",
        "    print('\\n== Outliers confusion matrix (', profile_name ,')==\\n')\n",
        "    print('Number of vehicles:', nVehicles)\n",
        "\n",
        "    print('\\nAnomaly Vehicles:', TPR)\n",
        "    #print(truePositivesReference)\n",
        "    print('Non anomaly Vehicles:', TNR)\n",
        "    #print(trueNegativesReference)\n",
        "\n",
        "    print('\\nPositives:', len(positives))\n",
        "    #print(positives)\n",
        "    print('Negatives:', len(negatives))\n",
        "    #print(negatives)\n",
        "\n",
        "    print(f'\\nTrue Positives (anomalous classified as anomalous): {TP}, ({TP_ratio:.2f}%)')\n",
        "    #print(\"\\033[32m\", truePositives, \"\\033[0m\")\n",
        "    print(f'False Negatives (anomalous classified as non-anomalous): {FN}, ({FN_ratio:.2f}%)')\n",
        "    #print(\"\\033[31m\", falseNegatives, \"\\033[0m\")\n",
        "    print(f'True Negatives (non-anomalous classified as non-anomalous): {TN}, ({TN_ratio:.2f}%)')\n",
        "    #print(\"\\033[32m\", trueNegatives, \"\\033[0m\")\n",
        "    print(f'False Positives (non-anomalous classified as anomalous): {FP}, ({FP_ratio:.2f}%)')\n",
        "    #print(\"\\033[31m\", falsePositives, \"\\033[0m\")\n",
        "    print('\\nAccuracy:', accuracy)\n",
        "    print('Precision:', precision)\n",
        "\n",
        "  return {'entities': nVehicles, 'TPR': TPR, 'TNR': TNR, 'positives': len(positives),'TP': TP, 'TN': TN, 'FP': FP, 'FN': FN}\n"
      ]
    },
    {
      "cell_type": "code",
      "execution_count": 187,
      "metadata": {
        "id": "j8-RxnIKprPV"
      },
      "outputs": [],
      "source": [
        "\n",
        "def generateConfusionMatrixGasPumps(estimatedFraudsPercent, gasPumpsDeficitList, ranking, positivity, name, print_result=False):\n",
        "\n",
        "  nGasPumps = len(gasPumpsDeficitList)\n",
        "\n",
        "  # Estimate how many gas pumps must be rigged to reach the rigged volume\n",
        "  estimatedNumberOfFrauds = round(nGasPumps * (estimatedFraudsPercent/100) * (positivity/100))\n",
        "\n",
        "  # Gets reference values ​​based on deficit values ​​in the gas pumps table\n",
        "  truePositivesReference = set()\n",
        "  trueNegativesReference = set()\n",
        "  for i in range(len(gasPumpsDeficitList)):\n",
        "    if gasPumpsDeficitList[i] < (1 - tolerance/100):\n",
        "      truePositivesReference.add(i)\n",
        "    else:\n",
        "      trueNegativesReference.add(i)\n",
        "\n",
        "  TPR = len(truePositivesReference)\n",
        "  TNR = len(trueNegativesReference)\n",
        "\n",
        "  # Get the positive gas pumps according to the ranking\n",
        "  ranking_list = list(list(zip(*ranking))[0])\n",
        "\n",
        "  positives = set(ranking_list[:estimatedNumberOfFrauds])\n",
        "  negatives = set(ranking_list[estimatedNumberOfFrauds-nGasPumps:])\n",
        "\n",
        "  # Get the confusion matrix\n",
        "  truePositives = positives.intersection(truePositivesReference)\n",
        "  TP = len(truePositives)\n",
        "\n",
        "  falseNegatives = negatives.intersection(truePositivesReference)\n",
        "  FN = len(falseNegatives)\n",
        "\n",
        "  trueNegatives = negatives.intersection(trueNegativesReference)\n",
        "  TN = len(trueNegatives)\n",
        "\n",
        "  falsePositives = positives.intersection(trueNegativesReference)\n",
        "  FP = len(falsePositives)\n",
        "\n",
        "\n",
        "  accuracy = (TP + TN) / (TP + TN + FP + FN)\n",
        "  precision = TP / (TP + FP)\n",
        "\n",
        "  if print_result:\n",
        "    print('\\n== Gas Pump Fraud Confusion Matrix (', name ,')==\\n')\n",
        "    print('Number of BCMs:', nGasPumps)\n",
        "    #print('Estimated number of frauds:', estimatedNumberOfFrauds)\n",
        "\n",
        "    print('Fraudulent gas pumps:', TPR)\n",
        "    #print(truePositivesReference)\n",
        "    print('Non fraudulent gas pumps:', TNR)\n",
        "    #print(trueNegativesReference)\n",
        "\n",
        "    #print('ranking_list', ranking_list)\n",
        "\n",
        "    #print('\\nPositives:', len(positives))\n",
        "    #print(positives)\n",
        "    #print('Negatives:', len(negatives))\n",
        "    #print(negatives)\n",
        "\n",
        "    print('True Positives (has fraud and was identified by the system):', TP, '(' + str(TP/TPR * 100) + '%)')\n",
        "    #print(\"\\033[32m\", truePositives, \"\\033[0m\")\n",
        "    print('False Negatives (has fraud and has not been identified by the system):', FN, '(' + str(FN/TPR * 100) + '%)')\n",
        "    #print(\"\\033[31m\", falseNegatives, \"\\033[0m\")\n",
        "    print('True Negatives (there is no fraud and it was not identified by the system):', TN, '(' + str(TN/TNR * 100) + '%)')\n",
        "    #print(\"\\033[32m\", trueNegatives, \"\\033[0m\")\n",
        "    print('False Positives (there is no fraud and it was identified by the system):', FP, '(' + str(FP/TNR * 100) + '%)')\n",
        "    #print(\"\\033[31m\", falsePositives, \"\\033[0m\")\n",
        "\n",
        "    print('\\nAccuracy:', accuracy)\n",
        "    print('Precision:', precision)\n",
        "\n",
        "  return {'entities': nGasPumps, 'TPR': TPR, 'TNR': TNR, 'positives': len(positives),'TP': TP, 'TN': TN, 'FP': FP, 'FN': FN}"
      ]
    },
    {
      "cell_type": "code",
      "execution_count": 188,
      "metadata": {
        "id": "S89D4jLWaRBh"
      },
      "outputs": [],
      "source": [
        "\n",
        "def joinMatrix(matrixList, label):\n",
        "\n",
        "  nEntities = 0\n",
        "  TPR = 0\n",
        "  TNR = 0\n",
        "  positives = 0\n",
        "  TP = 0\n",
        "  TN = 0\n",
        "  FP = 0\n",
        "  FN = 0\n",
        "\n",
        "  for i in matrixList:\n",
        "    nEntities += i['entities']\n",
        "    TPR += i['TPR']\n",
        "    TNR += i['TNR']\n",
        "    positives += i['positives']\n",
        "    TP += i['TP']\n",
        "    TN += i['TN']\n",
        "    FP += i['FP']\n",
        "    FN += i['FN']\n",
        "\n",
        "  TP_ratio = (TP / TPR * 100) if TPR > 0 else 0\n",
        "  FN_ratio = (FN / TPR * 100) if TPR > 0 else 0\n",
        "  TN_ratio = (TN / TNR * 100) if TNR > 0 else 0\n",
        "  FP_ratio = (FP / TNR * 100) if TNR > 0 else 0\n",
        "\n",
        "  accuracy = (TP + TN) / (TP + TN + FP + FN) if (TP + TN + FP + FN) > 0 else 0\n",
        "  precision = TP / (TP + FP) if (TP + FP) > 0 else 0 # div por 0 when no positives\n",
        "\n",
        "  print('\\n== Confusion Matrix:', label, '==')\n",
        "\n",
        "  print('\\nEntities:', nEntities)\n",
        "  print('TPR:', TPR)\n",
        "  print('Positives:', positives)\n",
        "\n",
        "  print(f'\\nTrue Positives (positives as positives): {TP}, ({TP_ratio:.2f}%)')\n",
        "  #print(\"\\033[32m\", truePositives, \"\\033[0m\")\n",
        "  print(f'False Negatives (positives as negatives): {FN}, ({FN_ratio:.2f}%)')\n",
        "  #print(\"\\033[31m\", falseNegatives, \"\\033[0m\")\n",
        "  print(f'True Negatives (negatives as negatives): {TN}, ({TN_ratio:.2f}%)')\n",
        "  #print(\"\\033[32m\", trueNegatives, \"\\033[0m\")\n",
        "  print(f'False Positives (negatives as positives): {FP}, ({FP_ratio:.2f}%)')\n",
        "\n",
        "  print('\\nAccuracy:', accuracy)\n",
        "  print('Precision:', precision)\n"
      ]
    },
    {
      "cell_type": "markdown",
      "metadata": {
        "id": "r5DkNHUo8tqQ"
      },
      "source": [
        "# Main routine"
      ]
    },
    {
      "cell_type": "code",
      "execution_count": 203,
      "metadata": {
        "id": "UlzJuXOrf6_q"
      },
      "outputs": [],
      "source": [
        "# Tables generation\n",
        "\n",
        "#tracemalloc.start()\n",
        "#start_time = time.time()\n",
        "\n",
        "gasPumpsByType = {\n",
        "    'gasoline': generateGasPumps(gasPumpsByFuel['gasoline'], 1 - peakShortfall/100, 1 - meanDeficit/100),\n",
        "    'ethanol': generateGasPumps(gasPumpsByFuel['ethanol'], 1 - peakShortfall/100, 1 - meanDeficit/100),\n",
        "    'diesel': generateGasPumps(gasPumpsByFuel['diesel'], 1 - peakShortfall/100, 1 - meanDeficit/100)\n",
        "}\n",
        "\n",
        "vehiclesByProfile = {}\n",
        "for profile_name in profile_names:\n",
        "    vehiclesByProfile[profile_name] = generateVehiclesList(profiles[profile_name])\n",
        "\n",
        "refuelingsByProfile = {}\n",
        "for profile_name, fuel_type in fuel_type_by_profile.items():\n",
        "    refuelingsByProfile[profile_name] = generateRefuelingTable(profiles[profile_name], fuel_type, gasPumpsDeficitList=gasPumpsByType[fuel_type], vehiclesOdometerList=vehiclesByProfile[profile_name], biasedVehiclesFault=biasedVehiclesFault, biasedVehiclesManipulation=biasedVehiclesManipulation, biasedFault=biasedFault, efficiencyBias=efficiencyBias)\n",
        "\n",
        "# Time and memory consumption\n",
        "#print(\"Total time: %s seconds ---\" % (time.time() - start_time))\n",
        "#print('Memory Current:', int(tracemalloc.get_traced_memory()[0]/1000), 'kB, Memory Peak:', int(tracemalloc.get_traced_memory()[1]/1000), 'kB')"
      ]
    },
    {
      "cell_type": "code",
      "execution_count": 204,
      "metadata": {
        "colab": {
          "base_uri": "https://localhost:8080/"
        },
        "id": "IN8J5EYm8ye7",
        "outputId": "72a07ade-7d6f-419d-cacf-09b402713776"
      },
      "outputs": [
        {
          "output_type": "stream",
          "name": "stdout",
          "text": [
            "\n",
            "== Confusion Matrix: Vehicles Outliers ==\n",
            "\n",
            "Entities: 1037631\n",
            "TPR: 207523\n",
            "Positives: 154798\n",
            "\n",
            "True Positives (positives as positives): 133744, (64.45%)\n",
            "False Negatives (positives as negatives): 73779, (35.55%)\n",
            "True Negatives (negatives as negatives): 809054, (97.46%)\n",
            "False Positives (negatives as positives): 21054, (2.54%)\n",
            "\n",
            "Accuracy: 0.9086062386339653\n",
            "Precision: 0.8639904908332149\n",
            "\n",
            "== Gas Pump Fraud Confusion Matrix ( gasoline )==\n",
            "\n",
            "Number of BCMs: 187299\n",
            "Fraudulent gas pumps: 56190\n",
            "Non fraudulent gas pumps: 131109\n",
            "True Positives (has fraud and was identified by the system): 40290 (71.70315002669514%)\n",
            "False Negatives (has fraud and has not been identified by the system): 15900 (28.29684997330486%)\n",
            "True Negatives (there is no fraud and it was not identified by the system): 115209 (87.87268608562341%)\n",
            "False Positives (there is no fraud and it was identified by the system): 15900 (12.127313914376588%)\n",
            "\n",
            "Accuracy: 0.8302179936892349\n",
            "Precision: 0.7170315002669514\n",
            "\n",
            "== Gas Pump Fraud Confusion Matrix ( ethanol )==\n",
            "\n",
            "Number of BCMs: 65155\n",
            "Fraudulent gas pumps: 19547\n",
            "Non fraudulent gas pumps: 45608\n",
            "True Positives (has fraud and was identified by the system): 12301 (62.93037294725533%)\n",
            "False Negatives (has fraud and has not been identified by the system): 7246 (37.06962705274467%)\n",
            "True Negatives (there is no fraud and it was not identified by the system): 38363 (84.11462901245396%)\n",
            "False Positives (there is no fraud and it was identified by the system): 7245 (15.885370987546043%)\n",
            "\n",
            "Accuracy: 0.77759189624741\n",
            "Precision: 0.6293359255090556\n",
            "\n",
            "== Gas Pump Fraud Confusion Matrix ( diesel )==\n",
            "\n",
            "Number of BCMs: 266737\n",
            "Fraudulent gas pumps: 80021\n",
            "Non fraudulent gas pumps: 186716\n",
            "True Positives (has fraud and was identified by the system): 33105 (41.37039027255345%)\n",
            "False Negatives (has fraud and has not been identified by the system): 46916 (58.62960972744654%)\n",
            "True Negatives (there is no fraud and it was not identified by the system): 139800 (74.87306926026693%)\n",
            "False Positives (there is no fraud and it was identified by the system): 46916 (25.126930739733073%)\n",
            "\n",
            "Accuracy: 0.6482227812414476\n",
            "Precision: 0.41370390272553453\n",
            "\n",
            "== Confusion Matrix: Gas pumps Frauds ==\n",
            "\n",
            "Entities: 519191\n",
            "TPR: 155758\n",
            "Positives: 155757\n",
            "\n",
            "True Positives (positives as positives): 85696, (55.02%)\n",
            "False Negatives (positives as negatives): 70062, (44.98%)\n",
            "True Negatives (negatives as negatives): 293372, (80.72%)\n",
            "False Positives (negatives as positives): 70061, (19.28%)\n",
            "\n",
            "Accuracy: 0.7301128101219012\n",
            "Precision: 0.5501903606258467\n"
          ]
        }
      ],
      "source": [
        "## Evaluation\n",
        "\n",
        "# Group profiles by fuel type\n",
        "groupedVehiclesByFuel = {'gasoline': [], 'ethanol': [], 'diesel': []}\n",
        "groupedRefuelingsByFuel = {'gasoline': {'refuelingsGasPumpList': [], 'refuelingsVolumeList': []}, 'ethanol': {'refuelingsGasPumpList': [], 'refuelingsVolumeList': []}, 'diesel': {'refuelingsGasPumpList': [], 'refuelingsVolumeList': []}}\n",
        "\n",
        "matrixVehiclesList = []\n",
        "\n",
        "for profile_name in profile_names:\n",
        "    fuel_type = fuel_type_by_profile[profile_name]\n",
        "    vehiclesRating = vehiclesEvaluation(refuelingsByProfile[profile_name], vehiclesByProfile[profile_name], profiles[profile_name])\n",
        "    vehiclesOutliers, vehiclesRating = removeOutliers(vehiclesRating)\n",
        "    matrixVehicles = generateConfusionMatrixVehiclesAnomaly(20, profiles[profile_name]['vehicles'], vehiclesOutliers, vehiclesRating, profile_name=profile_name)\n",
        "    matrixVehiclesList.append(matrixVehicles)\n",
        "    groupedVehiclesByFuel[fuel_type].append(vehiclesRating)\n",
        "    groupedRefuelingsByFuel[fuel_type]['refuelingsGasPumpList'].append(refuelingsByProfile[profile_name]['refuelingsGasPumpList'])\n",
        "    groupedRefuelingsByFuel[fuel_type]['refuelingsVolumeList'].append(refuelingsByProfile[profile_name]['refuelingsVolumeList'])\n",
        "\n",
        "joinMatrix(matrixVehiclesList, 'Vehicles Outliers')\n",
        "\n",
        "all_gas_pumps_rating = {}\n",
        "matrixGasPumpsList = []\n",
        "# Grouped checks and assessments\n",
        "for fuel_type in ['gasoline', 'ethanol', 'diesel']:\n",
        "    gasPumpsRating = gasPumpsEvaluationGrouped(groupedRefuelingsByFuel[fuel_type], fuel_type, groupedVehiclesByFuel[fuel_type])\n",
        "    gas_pumps_ordered_ranking = sorted(gasPumpsRating.items(), key=lambda item: item[1])\n",
        "    #print(f'Gas pumps ranking for {fuel_type}:', gas_pumps_ordered_ranking)\n",
        "    #print(\"\\nTipo de combustivel: \", fuel_type)\n",
        "    matrixGasPumps = generateConfusionMatrixGasPumps(100*(meanDeficit/peakShortfall), gasPumpsDeficitList=gasPumpsByType[fuel_type], ranking=gas_pumps_ordered_ranking, positivity=positivity, name=fuel_type, print_result=True)\n",
        "    matrixGasPumpsList.append(matrixGasPumps)\n",
        "    for id in gasPumpsRating:\n",
        "      all_gas_pumps_rating[fuel_type[0] + str(id)] = gasPumpsRating[id]\n",
        "\n",
        "joinMatrix(matrixGasPumpsList, 'Gas pumps Frauds')\n",
        "\n",
        "all_gas_pumps_ordered_ranking = sorted(all_gas_pumps_rating.items(), key=lambda item: item[1])\n",
        "#print(all_gas_pumps_ordered_ranking)\n"
      ]
    },
    {
      "cell_type": "code",
      "execution_count": 205,
      "metadata": {
        "colab": {
          "base_uri": "https://localhost:8080/"
        },
        "id": "ZnHxSOMFBIxV",
        "outputId": "8e971add-61d3-4918-f4c4-01c37d174ae4"
      },
      "outputs": [
        {
          "output_type": "stream",
          "name": "stdout",
          "text": [
            "181683.08792119997\n",
            "187299\n",
            "0.9700163264149834\n",
            "63200.50784182026\n",
            "65155\n",
            "0.9700024225588253\n",
            "258736.44945480608\n",
            "266737\n",
            "0.9700058464135313\n",
            "56190\n"
          ]
        }
      ],
      "source": [
        "# Checking the gas pumps deficit percentage\n",
        "print(sum(gasPumpsByType['gasoline']))\n",
        "print(len(gasPumpsByType['gasoline']))\n",
        "print(sum(gasPumpsByType['gasoline'])/len(gasPumpsByType['gasoline']))\n",
        "\n",
        "print(sum(gasPumpsByType['ethanol']))\n",
        "print(len(gasPumpsByType['ethanol']))\n",
        "print(sum(gasPumpsByType['ethanol'])/len(gasPumpsByType['ethanol']))\n",
        "\n",
        "print(sum(gasPumpsByType['diesel']))\n",
        "print(len(gasPumpsByType['diesel']))\n",
        "print(sum(gasPumpsByType['diesel'])/len(gasPumpsByType['diesel']))\n",
        "\n",
        "truePositivesReference = set()\n",
        "for i in range(len(gasPumpsByType['gasoline'])):\n",
        "  if gasPumpsByType['gasoline'][i] < (1 - tolerance/100):\n",
        "    truePositivesReference.add(i)\n",
        "\n",
        "print(len(truePositivesReference))"
      ]
    },
    {
      "cell_type": "code",
      "execution_count": null,
      "metadata": {
        "colab": {
          "base_uri": "https://localhost:8080/",
          "height": 1000
        },
        "id": "ggY2n8zzHGSA",
        "outputId": "fee0e3b9-cae9-4b04-fcd3-1cd9a311114d"
      },
      "outputs": [
        {
          "output_type": "stream",
          "name": "stdout",
          "text": [
            "\n",
            "== Distributions ==\n",
            "\n"
          ]
        },
        {
          "output_type": "display_data",
          "data": {
            "text/plain": [
              "<Figure size 640x480 with 1 Axes>"
            ],
            "image/png": "[encoded data removed]"
          },
          "metadata": {}
        },
        {
          "output_type": "stream",
          "name": "stdout",
          "text": [
            "Mean: 0.9700163264149834\n",
            "Std: 0.04609335219292462\n",
            "Min: 0.8800090808064542\n",
            "Max: 1.0049996681601108\n"
          ]
        },
        {
          "output_type": "display_data",
          "data": {
            "text/plain": [
              "<Figure size 640x480 with 1 Axes>"
            ],
            "image/png": "[encoded data removed]"
          },
          "metadata": {}
        },
        {
          "output_type": "stream",
          "name": "stdout",
          "text": [
            "Mean: 29.690320877309343\n",
            "Std: 11.32489123923211\n",
            "Min: 0\n",
            "Max: 60\n"
          ]
        },
        {
          "output_type": "display_data",
          "data": {
            "text/plain": [
              "<Figure size 640x480 with 1 Axes>"
            ],
            "image/png": "[encoded data removed]"
          },
          "metadata": {}
        },
        {
          "output_type": "stream",
          "name": "stdout",
          "text": [
            "Mean: 73.85035157689043\n",
            "Std: 8.594538293011016\n",
            "Min: 40\n",
            "Max: 115\n"
          ]
        }
      ],
      "source": [
        "# Post-generation checks\n",
        "#crossParametersCheckByProfile('automobilesWithGasoline', vehiclesByProfile['automobilesWithGasoline'], {'refuelingsVolumeList': groupedRefuelingsByFuel['gasoline']['refuelingsVolumeList'][0], 'refuelingsGasPumpList': groupedRefuelingsByFuel['gasoline']['refuelingsGasPumpList'][0]})\n",
        "plotDistributions(gasPumpsByType['gasoline'], {'refuelingsVolumeList': groupedRefuelingsByFuel['gasoline']['refuelingsVolumeList'][0], 'refuelingsGasPumpList': groupedRefuelingsByFuel['gasoline']['refuelingsGasPumpList'][0]})"
      ]
    },
    {
      "cell_type": "code",
      "execution_count": null,
      "metadata": {
        "id": "oTIWtSkqt1rm"
      },
      "outputs": [],
      "source": [
        "gasPumpsDeficitList = generateGasPumps(519.192, 1 - peakShortfall/100, 1 - meanDeficit/100)\n",
        "gasPumpsDeficitListPercent = twoPeaksDistribution(first=1, second=peakShortfall, range1=tolerance/100, range2=peakShortfallVariation/100, size=519.192, mean=3, std1=0.2, std2=1)\n",
        "\n",
        "\n",
        "plotHistDistribution(gasPumpsDeficitList, '', bins=100)\n",
        "plotHistDistribution(gasPumpsDeficitListPercent, '', bins=100)\n"
      ]
    },
    {
      "cell_type": "markdown",
      "metadata": {
        "id": "Vml0INwTKkvQ"
      },
      "source": [
        "# Conference Tests (checks if the simulation was generated correctly)"
      ]
    },
    {
      "cell_type": "code",
      "execution_count": null,
      "metadata": {
        "id": "F5e-jPlXLahN"
      },
      "outputs": [],
      "source": [
        "# Test by profile\n",
        "gasPumpsGasoline = generateGasPumps(gasPumpsByFuel['gasoline'], 1 - peakShortfall/100, 1 - meanDeficit/100)\n",
        "vehicles1 = generateVehiclesList(profiles['automobilesWithGasoline'])\n",
        "refuelings1 = generateRefuelingTable(profiles['automobilesWithGasoline'], 'gasoline', gasPumpsDeficitList=gasPumpsGasoline, vehiclesOdometerList=vehicles1, biasedVehiclesFault=biasedVehiclesFault, biasedVehiclesManipulation=biasedVehiclesManipulation, biasedFault=biasedFault, efficiencyBias=efficiencyBias)\n",
        "\n",
        "vehicles2 = generateVehiclesList(profiles['lightCommercialGasoline'])\n",
        "refuelings2 = generateRefuelingTable(profiles['lightCommercialGasoline'], 'gasoline', gasPumpsDeficitList=gasPumpsGasoline, vehiclesOdometerList=vehicles2, biasedVehiclesFault=biasedVehiclesFault, biasedVehiclesManipulation=biasedVehiclesManipulation, biasedFault=biasedFault, efficiencyBias=efficiencyBias)\n",
        "\n",
        "vehicles3 = generateVehiclesList(profiles['motorcycleWithGasoline'])\n",
        "refuelings3 = generateRefuelingTable(profiles['motorcycleWithGasoline'], 'gasoline', gasPumpsDeficitList=gasPumpsGasoline, vehiclesOdometerList=vehicles3, biasedVehiclesFault=biasedVehiclesFault, biasedVehiclesManipulation=biasedVehiclesManipulation, biasedFault=biasedFault, efficiencyBias=efficiencyBias)\n"
      ]
    },
    {
      "cell_type": "code",
      "execution_count": null,
      "metadata": {
        "id": "LkWq_nDRKj9w"
      },
      "outputs": [],
      "source": [
        "\n",
        "# Post-generation checks\n",
        "#crossParametersCheckByProfile('automobilesWithGasoline', automobilesWithGasoline, {'refuelingsVolumeList': refuelingsAutomobilesWithGasoline['refuelingsVolumeList'], 'refuelingsGasPumpList': refuelingsAutomobilesWithGasoline['refuelingsGasPumpList']})\n",
        "#plotDistributions(gasPumpsGasoline, {'refuelingsVolumeList': refuelingsAutomobilesWithGasoline['refuelingsVolumeList'], 'refuelingsGasPumpList': refuelingsAutomobilesWithGasoline['refuelingsGasPumpList']})\n",
        "\n",
        "vehiclesRating1 = vehiclesEvaluation(refuelings1, vehicles1, profiles['automobilesWithGasoline'])\n",
        "vehiclesRating2 = vehiclesEvaluation(refuelings2, vehicles2, profiles['lightCommercialGasoline'])\n",
        "vehiclesRating3 = vehiclesEvaluation(refuelings3, vehicles3, profiles['motorcycleWithGasoline'])\n",
        "#print(vehiclesRating)\n",
        "\n",
        "#vehicles_ordered_ranking = sorted(vehiclesRating.items(), key=lambda item: item[1])\n",
        "#print(vehicles_ordered_ranking)\n",
        "\n",
        "#vehiclesEvaluationPlot = list(list(zip(*vehicles_ordered_ranking))[1])\n",
        "\n",
        "#plt.plot([1 for i in range(len(vehiclesEvaluationPlot))],vehiclesEvaluationPlot, '.')\n",
        "#plt.title('Vehicles evaluation')\n",
        "#print('antes:', len(vehiclesEvaluationPlot))\n",
        "#plotHistDistribution(vehiclesEvaluationPlot, 'Vehicles evaluation')\n",
        "\n",
        "vehiclesOutliers1, vehiclesRating1 = removeOutliers(vehiclesRating1)\n",
        "vehiclesOutliers2, vehiclesRating2 = removeOutliers(vehiclesRating2)\n",
        "vehiclesOutliers3, vehiclesRating3 = removeOutliers(vehiclesRating3)\n",
        "\n",
        "#print('outliers', vehiclesOutliers)\n",
        "#vehicles_ordered_ranking_outliers = sorted(vehiclesOutliers.items(), key=lambda item: item[1])\n",
        "#vehiclesOutliersPlot = list(list(zip(*vehicles_ordered_ranking_outliers))[1])\n",
        "#print('outliers total:', len(vehiclesOutliersPlot))\n",
        "#plotHistDistribution(vehiclesOutliersPlot, 'Vehicles outliers')\n",
        "\n",
        "#print('vehicles', vehiclesRating)\n",
        "vehicles_ordered_ranking1 = sorted(vehiclesRating1.items(), key=lambda item: item[1])\n",
        "vehicles_ordered_ranking2 = sorted(vehiclesRating2.items(), key=lambda item: item[1])\n",
        "vehicles_ordered_ranking3 = sorted(vehiclesRating3.items(), key=lambda item: item[1])\n",
        "#vehiclesEvaluationPlot = list(list(zip(*vehicles_ordered_ranking))[1])\n",
        "#print('final total:', len(vehiclesEvaluationPlot))\n",
        "#plotHistDistribution(vehiclesEvaluationPlot, 'Vehicles evaluation 2')\n",
        "\n",
        "matrixVehicles1 = generateConfusionMatrixVehiclesAnomaly(20, profiles['automobilesWithGasoline']['vehicles'], vehiclesOutliers1, vehiclesRating1, profile_name='automobilesWithGasoline', print_result=False)\n",
        "matrixVehicles2 = generateConfusionMatrixVehiclesAnomaly(20, profiles['lightCommercialGasoline']['vehicles'], vehiclesOutliers2, vehiclesRating2, profile_name='lightCommercialGasoline', print_result=False)\n",
        "matrixVehicles3 = generateConfusionMatrixVehiclesAnomaly(20, profiles['motorcycleWithGasoline']['vehicles'], vehiclesOutliers3, vehiclesRating3, profile_name='motorcycleWithGasoline', print_result=False)\n",
        "\n",
        "joinMatrix([matrixVehicles1, matrixVehicles2, matrixVehicles3], 'Vehicles Outliers')\n",
        "\n",
        "#generateConfusionMatrixVehiclesAnomaly(20, nVehicles, vehiclesOutliers3, vehiclesRating3, profile_name='motorcycleWithGasoline')\n",
        "\n",
        "gasPumpsRating1 = gasPumpsEvaluation(refuelings1, 'gasoline', vehiclesRating1)\n",
        "gasPumpsRating2 = gasPumpsEvaluation(refuelings2, 'gasoline', vehiclesRating2)\n",
        "gasPumpsRating3 = gasPumpsEvaluation(refuelings3, 'gasoline', vehiclesRating3)\n",
        "\n",
        "gas_pumps_ordered_ranking1 = sorted(gasPumpsRating1.items(), key=lambda item: item[1])\n",
        "gas_pumps_ordered_ranking2 = sorted(gasPumpsRating2.items(), key=lambda item: item[1])\n",
        "gas_pumps_ordered_ranking3 = sorted(gasPumpsRating3.items(), key=lambda item: item[1])\n",
        "#print(gas_pumps_ordered_ranking)\n",
        "#gasPumpsRankingPlot = list(list(zip(*gas_pumps_ordered_ranking))[1])\n",
        "#plotHistDistribution(gasPumpsRankingPlot, 'Gas pumps ranking')\n",
        "\n",
        "matrixGasPumps1 = generateConfusionMatrixGasPumps(30, gasPumpsDeficitList=gasPumpsGasoline, ranking=gas_pumps_ordered_ranking1, positivity=positivity, name='gasoline 1', print_result=True)\n",
        "matrixGasPumps2 = generateConfusionMatrixGasPumps(30, gasPumpsDeficitList=gasPumpsGasoline, ranking=gas_pumps_ordered_ranking2, positivity=positivity, name='gasoline 2', print_result=True)\n",
        "matrixGasPumps3 = generateConfusionMatrixGasPumps(30, gasPumpsDeficitList=gasPumpsGasoline, ranking=gas_pumps_ordered_ranking3, positivity=positivity, name='gasoline 3', print_result=True)\n"
      ]
    },
    {
      "cell_type": "code",
      "execution_count": null,
      "metadata": {
        "id": "ABkf4P1JK5EM"
      },
      "outputs": [],
      "source": [
        "# profile test using grouping function\n",
        "groupedVehiclesByFuel_ = {'gasoline': [vehiclesRating1, vehiclesRating2, vehiclesRating3]}\n",
        "groupedRefuelingsByFuel_ = {'gasoline': {'refuelingsGasPumpList': [], 'refuelingsVolumeList': []}}\n",
        "\n",
        "groupedRefuelingsByFuel_['gasoline']['refuelingsGasPumpList'].append(refuelings1['refuelingsGasPumpList'])\n",
        "groupedRefuelingsByFuel_['gasoline']['refuelingsVolumeList'].append(refuelings1['refuelingsVolumeList'])\n",
        "\n",
        "groupedRefuelingsByFuel_['gasoline']['refuelingsGasPumpList'].append(refuelings2['refuelingsGasPumpList'])\n",
        "groupedRefuelingsByFuel_['gasoline']['refuelingsVolumeList'].append(refuelings2['refuelingsVolumeList'])\n",
        "\n",
        "groupedRefuelingsByFuel_['gasoline']['refuelingsGasPumpList'].append(refuelings3['refuelingsGasPumpList'])\n",
        "groupedRefuelingsByFuel_['gasoline']['refuelingsVolumeList'].append(refuelings3['refuelingsVolumeList'])\n",
        "\n",
        "gasPumpsRating = gasPumpsEvaluationGrouped(groupedRefuelingsByFuel_['gasoline'], 'gasoline', groupedVehiclesByFuel_['gasoline'])\n",
        "\n",
        "gas_pumps_ordered_ranking = sorted(gasPumpsRating.items(), key=lambda item: item[1])\n",
        "#print(gas_pumps_ordered_ranking)\n",
        "gasPumpsRankingPlot = list(list(zip(*gas_pumps_ordered_ranking))[1])\n",
        "#plotHistDistribution(gasPumpsRankingPlot, 'Gas pumps ranking')\n",
        "\n",
        "matrixGasPumps = generateConfusionMatrixGasPumps(30, gasPumpsDeficitList=gasPumpsGasoline, ranking=gas_pumps_ordered_ranking, positivity=positivity, name='Gas pumps gasoline', print_result=True)\n"
      ]
    }
  ],
  "metadata": {
    "colab": {
      "collapsed_sections": [
        "BQ-uMczOs0rv",
        "nLRJR_MlprpQ"
      ],
      "provenance": []
    },
    "kernelspec": {
      "display_name": "Python 3",
      "name": "python3"
    },
    "language_info": {
      "name": "python"
    }
  },
  "nbformat": 4,
  "nbformat_minor": 0
}